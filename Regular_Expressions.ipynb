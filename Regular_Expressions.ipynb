{
 "cells": [
  {
   "cell_type": "code",
   "execution_count": 1,
   "id": "2844a9d8",
   "metadata": {},
   "outputs": [],
   "source": [
    "import re"
   ]
  },
  {
   "cell_type": "markdown",
   "id": "99200ba8",
   "metadata": {},
   "source": [
    "### References\n",
    "\n",
    "https://www3.ntu.edu.sg/home/ehchua/programming/howto/Regexe.html\n",
    "\n",
    "https://www3.ntu.edu.sg/home/ehchua/programming/webprogramming/Python1_Basics.html"
   ]
  },
  {
   "cell_type": "markdown",
   "id": "e0da5fd5",
   "metadata": {},
   "source": [
    "#### Special Regex Characters\n",
    "\n",
    "., +, *, ?, ^, $, (, ), [, ], {, }, |, \\.\n"
   ]
  },
  {
   "cell_type": "markdown",
   "id": "725388a0",
   "metadata": {},
   "source": [
    "#### Escape Sequences (\\char):\n",
    "\n",
    "To match a character having special meaning in regex, you need to use a escape sequence prefix with a backslash (\\). E.g., `\\.` matches \".\"; regex `\\+` matches \"+\"; and regex \\( matches \"(\".\n",
    "\n",
    "You also need to use regex `\\\\` to match \"\\\" (back-slash).\n",
    "\n",
    "Regex recognizes common escape sequences such as \\n for newline, \\t for tab, \\r for carriage-return, \\nnn for a up to 3-digit octal number, \\xhh for a two-digit hex code, \\uhhhh for a 4-digit Unicode, \\uhhhhhhhh for a 8-digit Unicode."
   ]
  },
  {
   "cell_type": "markdown",
   "id": "2c727610",
   "metadata": {},
   "source": [
    "#### OR Operator \n",
    "\n",
    "(|): E.g., the regex four|4 accepts strings \"four\" or \"4\"."
   ]
  },
  {
   "cell_type": "markdown",
   "id": "160bcaa3",
   "metadata": {},
   "source": [
    "### Character class (or Bracket List):\n",
    "\n",
    "[...]: Accept ANY ONE of the character within the square bracket, e.g., [aeiou] matches \"a\", \"e\", \"i\", \"o\" or \"u\".\n",
    "\n",
    "[.-.] (Range Expression): Accept ANY ONE of the character in the range, e.g., [0-9] matches any digit; [A-Za-z] matches any uppercase or lowercase letters.\n",
    "\n",
    "[^...]: NOT ONE of the character, e.g., [^0-9] matches any non-digit.\n",
    "Only these four characters require escape sequence inside the bracket list: `^, -, ], \\`."
   ]
  },
  {
   "cell_type": "markdown",
   "id": "824f400e",
   "metadata": {},
   "source": [
    "#### Occurrence Indicators (or Repetition Operators):\n",
    "\n",
    "+: one or more (1+), e.g., [0-9]+ matches one or more digits such as '123', '000'.\n",
    "\n",
    "*: zero or more (0+), e.g., [0-9]* matches zero or more digits. It accepts all those in [0-9]+ plus the empty string.\n",
    "\n",
    "?: zero or one (optional), e.g., [+-]? matches an optional \"+\", \"-\", or an empty string.\n",
    "\n",
    "{m,n}: m to n (both inclusive)\n",
    "\n",
    "{m}: exactly m times\n",
    "\n",
    "{m,}: m or more (m+)"
   ]
  },
  {
   "cell_type": "markdown",
   "id": "008d4558",
   "metadata": {},
   "source": [
    "Metacharacters: matches a character\n",
    "\n",
    "`.` (dot): ANY ONE character except newline. Same as `[^\\n]`\n",
    "\n",
    "`\\d, \\D`: ANY ONE digit/non-digit character. Digits are [0-9]\n",
    "\n",
    "`\\w, \\W`: ANY ONE word/non-word character. For ASCII, word characters are [a-zA-Z0-9_]\n",
    "\n",
    "`\\s, \\S`: ANY ONE space/non-space character. For ASCII, whitespace characters are `[ \\n\\r\\t\\f]`"
   ]
  },
  {
   "cell_type": "markdown",
   "id": "14ab7485",
   "metadata": {},
   "source": [
    "#### Position Anchors: \n",
    "Does not match character, but position such as start-of-line, end-of-line, start-of-word and end-of-word.\n",
    "\n",
    "`^,$`: start-of-line and end-of-line respectively. E.g., ^[0-9]$ matches a numeric string.\n",
    "\n",
    "`\\b`: boundary of word, i.e., start-of-word or end-of-word. E.g., `\\bcat\\b` matches the word \"cat\" in the input string.\n",
    "\n",
    "`\\B`: Inverse of `\\b`, i.e., non-start-of-word or non-end-of-word.\n",
    "\n",
    "`\\<, \\>`: start-of-word and end-of-word respectively, similar to `\\b`. E.g., `\\<cat\\>` matches the word \"cat\" in the input string.\n",
    "\n",
    "`\\A, \\Z`: start-of-input and end-of-input respectively.\n",
    "\n",
    "#### Parenthesized Back References:\n",
    "Use parentheses ( ) to create a back reference.\n",
    "Use $1, $2, ... (Java, Perl, JavaScript) or `\\1, \\2, ...` (Python) to retreive the back references in sequential order.\n",
    "\n",
    "#### Laziness (Curb Greediness for Repetition Operators): \n",
    "*?, +?, ??, {m,n}?, {m,}?"
   ]
  },
  {
   "cell_type": "code",
   "execution_count": null,
   "id": "c77fc937",
   "metadata": {},
   "outputs": [],
   "source": []
  },
  {
   "cell_type": "code",
   "execution_count": null,
   "id": "2961b5e6",
   "metadata": {},
   "outputs": [],
   "source": []
  }
 ],
 "metadata": {
  "kernelspec": {
   "display_name": "Python 3",
   "language": "python",
   "name": "python3"
  },
  "language_info": {
   "codemirror_mode": {
    "name": "ipython",
    "version": 3
   },
   "file_extension": ".py",
   "mimetype": "text/x-python",
   "name": "python",
   "nbconvert_exporter": "python",
   "pygments_lexer": "ipython3",
   "version": "3.8.6"
  }
 },
 "nbformat": 4,
 "nbformat_minor": 5
}
