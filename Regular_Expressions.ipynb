{
 "cells": [
  {
   "cell_type": "code",
   "execution_count": 1,
   "id": "2844a9d8",
   "metadata": {},
   "outputs": [],
   "source": [
    "import re"
   ]
  },
  {
   "cell_type": "markdown",
   "id": "99200ba8",
   "metadata": {},
   "source": [
    "### References\n",
    "\n",
    "https://www3.ntu.edu.sg/home/ehchua/programming/howto/Regexe.html\n",
    "\n",
    "https://docs.microsoft.com/en-us/dotnet/standard/base-types/regular-expression-language-quick-reference?redirectedfrom=MSDN"
   ]
  },
  {
   "cell_type": "markdown",
   "id": "e0da5fd5",
   "metadata": {},
   "source": [
    "#### Special Regex Characters\n",
    "\n",
    "., +, *, ?, ^, $, (, ), [, ], {, }, |, \\.\n"
   ]
  },
  {
   "cell_type": "markdown",
   "id": "2afa98f1",
   "metadata": {},
   "source": [
    "#### Escape Sequences (\\char):\n",
    "\n",
    "To match a character having special meaning in regex, you need to use a escape sequence prefix with a backslash (\\). E.g., `\\.` matches \".\"; regex `\\+` matches \"+\"; and regex \\( matches \"(\".\n",
    "\n",
    "You also need to use regex `\\\\` to match \"\\\" (back-slash).\n",
    "\n",
    "Regex recognizes common escape sequences such as \\n for newline, \\t for tab, \\r for carriage-return, \\nnn for a up to 3-digit octal number, \\xhh for a two-digit hex code, \\uhhhh for a 4-digit Unicode, \\uhhhhhhhh for a 8-digit Unicode."
   ]
  },
  {
   "cell_type": "markdown",
   "id": "7b682a50",
   "metadata": {},
   "source": [
    "#### OR Operator \n",
    "\n",
    "(|): E.g., the regex four|4 accepts strings \"four\" or \"4\"."
   ]
  },
  {
   "cell_type": "markdown",
   "id": "8c019b36",
   "metadata": {},
   "source": [
    "### Character class (or Bracket List):\n",
    "\n",
    "[...]: Accept ANY ONE of the character within the square bracket, e.g., [aeiou] matches \"a\", \"e\", \"i\", \"o\" or \"u\".\n",
    "\n",
    "[.-.] (Range Expression): Accept ANY ONE of the character in the range, e.g., [0-9] matches any digit; [A-Za-z] matches any uppercase or lowercase letters.\n",
    "\n",
    "[^...]: NOT ONE of the character, e.g., [^0-9] matches any non-digit.\n",
    "Only these four characters require escape sequence inside the bracket list: `^, -, ], \\`."
   ]
  },
  {
   "cell_type": "markdown",
   "id": "3919fae2",
   "metadata": {},
   "source": [
    "#### Occurrence Indicators (or Repetition Operators):\n",
    "\n",
    "+: one or more (1+), e.g., [0-9]+ matches one or more digits such as '123', '000'.\n",
    "\n",
    "*: zero or more (0+), e.g., [0-9]* matches zero or more digits. It accepts all those in [0-9]+ plus the empty string.\n",
    "\n",
    "?: zero or one (optional), e.g., [+-]? matches an optional \"+\", \"-\", or an empty string.\n",
    "\n",
    "{m,n}: m to n (both inclusive)\n",
    "\n",
    "{m}: exactly m times\n",
    "\n",
    "{m,}: m or more (m+)"
   ]
  },
  {
   "cell_type": "markdown",
   "id": "711be0fa",
   "metadata": {},
   "source": [
    "Metacharacters: matches a character\n",
    "\n",
    "`.` (dot): ANY ONE character except newline. Same as `[^\\n]`\n",
    "\n",
    "`\\d, \\D`: ANY ONE digit/non-digit character. Digits are [0-9]\n",
    "\n",
    "`\\w, \\W`: ANY ONE word/non-word character. For ASCII, word characters are [a-zA-Z0-9_]\n",
    "\n",
    "`\\s, \\S`: ANY ONE space/non-space character. For ASCII, whitespace characters are `[ \\n\\r\\t\\f]`"
   ]
  },
  {
   "cell_type": "markdown",
   "id": "f00a5cd9",
   "metadata": {},
   "source": [
    "#### Position Anchors: \n",
    "Does not match character, but position such as start-of-line, end-of-line, start-of-word and end-of-word.\n",
    "\n",
    "`^,$`: start-of-line and end-of-line respectively. E.g., ^[0-9]$ matches a numeric string.\n",
    "\n",
    "`\\b`: boundary of word, i.e., start-of-word or end-of-word. E.g., `\\bcat\\b` matches the word \"cat\" in the input string.\n",
    "\n",
    "`\\B`: Inverse of `\\b`, i.e., non-start-of-word or non-end-of-word.\n",
    "\n",
    "`\\<, \\>`: start-of-word and end-of-word respectively, similar to `\\b`. E.g., `\\<cat\\>` matches the word \"cat\" in the input string.\n",
    "\n",
    "`\\A, \\Z`: start-of-input and end-of-input respectively.\n",
    "\n",
    "#### Parenthesized Back References:\n",
    "Use parentheses ( ) to create a back reference.\n",
    "Use $1, $2, ... (Java, Perl, JavaScript) or `\\1, \\2, ...` (Python) to retreive the back references in sequential order.\n",
    "\n",
    "#### Laziness (Curb Greediness for Repetition Operators): \n",
    "*?, +?, ??, {m,n}?, {m,}?"
   ]
  },
  {
   "cell_type": "code",
   "execution_count": 2,
   "id": "28d5b011",
   "metadata": {},
   "outputs": [
    {
     "data": {
      "text/plain": [
       "['123', '223']"
      ]
     },
     "execution_count": 2,
     "metadata": {},
     "output_type": "execute_result"
    }
   ],
   "source": [
    "re.findall(r'[0-9]+','abc123add223')"
   ]
  },
  {
   "cell_type": "code",
   "execution_count": 3,
   "id": "2961b5e6",
   "metadata": {},
   "outputs": [
    {
     "data": {
      "text/plain": [
       "['123', '223']"
      ]
     },
     "execution_count": 3,
     "metadata": {},
     "output_type": "execute_result"
    }
   ],
   "source": [
    "re.findall(r'\\d+','abc123add223')"
   ]
  },
  {
   "cell_type": "code",
   "execution_count": 4,
   "id": "a55be030",
   "metadata": {},
   "outputs": [
    {
     "data": {
      "text/plain": [
       "['abc', 'add']"
      ]
     },
     "execution_count": 4,
     "metadata": {},
     "output_type": "execute_result"
    }
   ],
   "source": [
    "re.findall(r'\\D+','abc123add223')"
   ]
  },
  {
   "cell_type": "code",
   "execution_count": 5,
   "id": "7209495f",
   "metadata": {},
   "outputs": [
    {
     "data": {
      "text/plain": [
       "'abc#xyz#_#'"
      ]
     },
     "execution_count": 5,
     "metadata": {},
     "output_type": "execute_result"
    }
   ],
   "source": [
    "# Try substitute: re.sub(regexStr, replacementStr, inStr) -> outStr\n",
    "re.sub(r'[0-9]+', r'#', 'abc00123xyz456_0')"
   ]
  },
  {
   "cell_type": "code",
   "execution_count": 6,
   "id": "d1a6a6e6",
   "metadata": {},
   "outputs": [
    {
     "data": {
      "text/plain": [
       "('ab!!c<>xyz<>_<>', 3)"
      ]
     },
     "execution_count": 6,
     "metadata": {},
     "output_type": "execute_result"
    }
   ],
   "source": [
    "# Try substitute with count: re.subn(regexStr, replacementStr, inStr) -> (outStr, count)\n",
    "re.subn(r'[0-9]+', r'<>', 'ab!!c00123xyz456_0')"
   ]
  },
  {
   "cell_type": "code",
   "execution_count": 7,
   "id": "f20b7926",
   "metadata": {},
   "outputs": [
    {
     "data": {
      "text/plain": [
       "['100']"
      ]
     },
     "execution_count": 7,
     "metadata": {},
     "output_type": "execute_result"
    }
   ],
   "source": [
    "# find person's age\n",
    "\n",
    "text = \"Prashant is 100 years old\"\n",
    "\n",
    "re.findall(r'[1-9][0-9]+', text)"
   ]
  },
  {
   "cell_type": "code",
   "execution_count": 8,
   "id": "af141ffe",
   "metadata": {},
   "outputs": [],
   "source": [
    "p1 = re.compile(r'^.+$', re.MULTILINE) "
   ]
  },
  {
   "cell_type": "code",
   "execution_count": 9,
   "id": "c12e8748",
   "metadata": {},
   "outputs": [
    {
     "data": {
      "text/plain": [
       "['testing', 'testing']"
      ]
     },
     "execution_count": 9,
     "metadata": {},
     "output_type": "execute_result"
    }
   ],
   "source": [
    "p1.findall('testing\\ntesting\\n')"
   ]
  },
  {
   "cell_type": "code",
   "execution_count": 10,
   "id": "1f798076",
   "metadata": {},
   "outputs": [],
   "source": [
    "p1 = re.compile(r'abc+') "
   ]
  },
  {
   "cell_type": "code",
   "execution_count": 11,
   "id": "b60be4df",
   "metadata": {},
   "outputs": [
    {
     "data": {
      "text/plain": [
       "['abc', 'abc', 'abc', 'abcccc', 'abc', 'abc', 'abc', 'abc']"
      ]
     },
     "execution_count": 11,
     "metadata": {},
     "output_type": "execute_result"
    }
   ],
   "source": [
    "p1.findall('abcabcabc abcccc\\nabcabcabcabc\\n')"
   ]
  },
  {
   "cell_type": "code",
   "execution_count": 12,
   "id": "7a3f4d62",
   "metadata": {},
   "outputs": [
    {
     "data": {
      "text/plain": [
       "['invest', 'fund']"
      ]
     },
     "execution_count": 12,
     "metadata": {},
     "output_type": "execute_result"
    }
   ],
   "source": [
    "p1 = re.compile(r'(invest|fund)+') \n",
    "p1.findall('Aleph invested in A,B,C\\nThey also did some funding in Bitcoin\\n')"
   ]
  },
  {
   "cell_type": "code",
   "execution_count": 56,
   "id": "734e4b99",
   "metadata": {},
   "outputs": [],
   "source": [
    "email_pattern = r\"[a-zA-Z0-9]+@[a-zA-Z]+\\.(com|edu|net|ie|in)\""
   ]
  },
  {
   "cell_type": "code",
   "execution_count": 63,
   "id": "ae69074f",
   "metadata": {},
   "outputs": [],
   "source": [
    "user_email = \"Prashant Garg's email id is prashantrhel6@gmail.com\""
   ]
  },
  {
   "cell_type": "code",
   "execution_count": 64,
   "id": "9d9a5671",
   "metadata": {},
   "outputs": [],
   "source": [
    "p1 = re.search(email_pattern, user_email)"
   ]
  },
  {
   "cell_type": "code",
   "execution_count": 67,
   "id": "0fb580ea",
   "metadata": {},
   "outputs": [
    {
     "data": {
      "text/plain": [
       "<re.Match object; span=(28, 51), match='prashantrhel6@gmail.com'>"
      ]
     },
     "execution_count": 67,
     "metadata": {},
     "output_type": "execute_result"
    }
   ],
   "source": [
    "p1"
   ]
  },
  {
   "cell_type": "code",
   "execution_count": null,
   "id": "ab50d09d",
   "metadata": {},
   "outputs": [],
   "source": []
  }
 ],
 "metadata": {
  "kernelspec": {
   "display_name": "Python 3",
   "language": "python",
   "name": "python3"
  },
  "language_info": {
   "codemirror_mode": {
    "name": "ipython",
    "version": 3
   },
   "file_extension": ".py",
   "mimetype": "text/x-python",
   "name": "python",
   "nbconvert_exporter": "python",
   "pygments_lexer": "ipython3",
   "version": "3.8.6"
  }
 },
 "nbformat": 4,
 "nbformat_minor": 5
}
