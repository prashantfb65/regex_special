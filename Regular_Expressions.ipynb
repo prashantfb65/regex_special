{
 "cells": [
  {
   "cell_type": "code",
   "execution_count": 69,
   "id": "2844a9d8",
   "metadata": {},
   "outputs": [],
   "source": [
    "import re\n",
    "import torch\n",
    "from transformers import pipeline\n",
    "from nltk import tokenize"
   ]
  },
  {
   "cell_type": "code",
   "execution_count": 96,
   "id": "6abc18be",
   "metadata": {},
   "outputs": [
    {
     "data": {
      "text/plain": [
       "'Prashant'"
      ]
     },
     "execution_count": 96,
     "metadata": {},
     "output_type": "execute_result"
    }
   ],
   "source": [
    "name = \"Prashant\"\n",
    "name.split(\" \")[0]"
   ]
  },
  {
   "cell_type": "code",
   "execution_count": 70,
   "id": "47e6b1ce",
   "metadata": {},
   "outputs": [],
   "source": [
    "nlp = pipeline(\"ner\", grouped_entities=True)"
   ]
  },
  {
   "cell_type": "markdown",
   "id": "99200ba8",
   "metadata": {},
   "source": [
    "### References\n",
    "\n",
    "https://www3.ntu.edu.sg/home/ehchua/programming/howto/Regexe.html\n",
    "\n",
    "https://docs.microsoft.com/en-us/dotnet/standard/base-types/regular-expression-language-quick-reference?redirectedfrom=MSDN\n",
    "\n",
    "https://www.youtube.com/watch?v=sa-TUpSx1JA"
   ]
  },
  {
   "cell_type": "markdown",
   "id": "e0da5fd5",
   "metadata": {},
   "source": [
    "#### Special Regex Characters\n",
    "\n",
    "., +, *, ?, ^, $, (, ), [, ], {, }, |, \\.\n"
   ]
  },
  {
   "cell_type": "markdown",
   "id": "2afa98f1",
   "metadata": {},
   "source": [
    "#### Escape Sequences (\\char):\n",
    "\n",
    "To match a character having special meaning in regex, you need to use a escape sequence prefix with a backslash (\\). E.g., `\\.` matches \".\"; regex `\\+` matches \"+\"; and regex \\( matches \"(\".\n",
    "\n",
    "You also need to use regex `\\\\` to match \"\\\" (back-slash).\n",
    "\n",
    "Regex recognizes common escape sequences such as \\n for newline, \\t for tab, \\r for carriage-return, \\nnn for a up to 3-digit octal number, \\xhh for a two-digit hex code, \\uhhhh for a 4-digit Unicode, \\uhhhhhhhh for a 8-digit Unicode."
   ]
  },
  {
   "cell_type": "markdown",
   "id": "7b682a50",
   "metadata": {},
   "source": [
    "#### OR Operator \n",
    "\n",
    "(|): E.g., the regex four|4 accepts strings \"four\" or \"4\"."
   ]
  },
  {
   "cell_type": "markdown",
   "id": "8c019b36",
   "metadata": {},
   "source": [
    "### Character class (or Bracket List):\n",
    "\n",
    "[...]: Accept ANY ONE of the character within the square bracket, e.g., [aeiou] matches \"a\", \"e\", \"i\", \"o\" or \"u\".\n",
    "\n",
    "[.-.] (Range Expression): Accept ANY ONE of the character in the range, e.g., [0-9] matches any digit; [A-Za-z] matches any uppercase or lowercase letters.\n",
    "\n",
    "[^...]: NOT ONE of the character, e.g., [^0-9] matches any non-digit.\n",
    "Only these four characters require escape sequence inside the bracket list: `^, -, ], \\`."
   ]
  },
  {
   "cell_type": "markdown",
   "id": "3919fae2",
   "metadata": {},
   "source": [
    "#### Occurrence Indicators (or Repetition Operators):\n",
    "\n",
    "+: one or more (1+), e.g., [0-9]+ matches one or more digits such as '123', '000'.\n",
    "\n",
    "*: zero or more (0+), e.g., [0-9]* matches zero or more digits. It accepts all those in [0-9]+ plus the empty string.\n",
    "\n",
    "?: zero or one (optional), e.g., [+-]? matches an optional \"+\", \"-\", or an empty string.\n",
    "\n",
    "{m,n}: m to n (both inclusive)\n",
    "\n",
    "{m}: exactly m times\n",
    "\n",
    "{m,}: m or more (m+)"
   ]
  },
  {
   "cell_type": "markdown",
   "id": "711be0fa",
   "metadata": {},
   "source": [
    "Metacharacters: matches a character\n",
    "\n",
    "`.` (dot): ANY ONE character except newline. Same as `[^\\n]`\n",
    "\n",
    "`\\d, \\D`: ANY ONE digit/non-digit character. Digits are [0-9]\n",
    "\n",
    "`\\w, \\W`: ANY ONE word/non-word character. For ASCII, word characters are [a-zA-Z0-9_]\n",
    "\n",
    "`\\s, \\S`: ANY ONE space/non-space character. For ASCII, whitespace characters are `[ \\n\\r\\t\\f]`"
   ]
  },
  {
   "cell_type": "markdown",
   "id": "f00a5cd9",
   "metadata": {},
   "source": [
    "#### Position Anchors: \n",
    "Does not match character, but position such as start-of-line, end-of-line, start-of-word and end-of-word.\n",
    "\n",
    "`^,$`: start-of-line and end-of-line respectively. E.g., ^[0-9]$ matches a numeric string.\n",
    "\n",
    "`\\b`: boundary of word, i.e., start-of-word or end-of-word. E.g., `\\bcat\\b` matches the word \"cat\" in the input string.\n",
    "\n",
    "`\\B`: Inverse of `\\b`, i.e., non-start-of-word or non-end-of-word.\n",
    "\n",
    "`\\<, \\>`: start-of-word and end-of-word respectively, similar to `\\b`. E.g., `\\<cat\\>` matches the word \"cat\" in the input string.\n",
    "\n",
    "`\\A, \\Z`: start-of-input and end-of-input respectively.\n",
    "\n",
    "#### Parenthesized Back References:\n",
    "Use parentheses ( ) to create a back reference.\n",
    "Use $1, $2, ... (Java, Perl, JavaScript) or `\\1, \\2, ...` (Python) to retreive the back references in sequential order.\n",
    "\n",
    "#### Laziness (Curb Greediness for Repetition Operators): \n",
    "*?, +?, ??, {m,n}?, {m,}?"
   ]
  },
  {
   "cell_type": "code",
   "execution_count": 5,
   "id": "28d5b011",
   "metadata": {},
   "outputs": [
    {
     "data": {
      "text/plain": [
       "['123', '223']"
      ]
     },
     "execution_count": 5,
     "metadata": {},
     "output_type": "execute_result"
    }
   ],
   "source": [
    "re.findall(r'[0-9]+','abc123add223')"
   ]
  },
  {
   "cell_type": "code",
   "execution_count": 6,
   "id": "2961b5e6",
   "metadata": {},
   "outputs": [
    {
     "data": {
      "text/plain": [
       "['123', '223']"
      ]
     },
     "execution_count": 6,
     "metadata": {},
     "output_type": "execute_result"
    }
   ],
   "source": [
    "re.findall(r'\\d+','abc123add223')"
   ]
  },
  {
   "cell_type": "code",
   "execution_count": 7,
   "id": "a55be030",
   "metadata": {},
   "outputs": [
    {
     "data": {
      "text/plain": [
       "['abc', 'add']"
      ]
     },
     "execution_count": 7,
     "metadata": {},
     "output_type": "execute_result"
    }
   ],
   "source": [
    "re.findall(r'\\D+','abc123add223')"
   ]
  },
  {
   "cell_type": "code",
   "execution_count": 8,
   "id": "7209495f",
   "metadata": {},
   "outputs": [
    {
     "data": {
      "text/plain": [
       "'abc#xyz#_#'"
      ]
     },
     "execution_count": 8,
     "metadata": {},
     "output_type": "execute_result"
    }
   ],
   "source": [
    "# Try substitute: re.sub(regexStr, replacementStr, inStr) -> outStr\n",
    "re.sub(r'[0-9]+', r'#', 'abc00123xyz456_0')"
   ]
  },
  {
   "cell_type": "code",
   "execution_count": 9,
   "id": "d1a6a6e6",
   "metadata": {},
   "outputs": [
    {
     "data": {
      "text/plain": [
       "('ab!!c<>xyz<>_<>', 3)"
      ]
     },
     "execution_count": 9,
     "metadata": {},
     "output_type": "execute_result"
    }
   ],
   "source": [
    "# Try substitute with count: re.subn(regexStr, replacementStr, inStr) -> (outStr, count)\n",
    "re.subn(r'[0-9]+', r'<>', 'ab!!c00123xyz456_0')"
   ]
  },
  {
   "cell_type": "code",
   "execution_count": 10,
   "id": "f20b7926",
   "metadata": {},
   "outputs": [
    {
     "data": {
      "text/plain": [
       "['100']"
      ]
     },
     "execution_count": 10,
     "metadata": {},
     "output_type": "execute_result"
    }
   ],
   "source": [
    "# find person's age\n",
    "\n",
    "text = \"Prashant is 100 years old\"\n",
    "\n",
    "re.findall(r'[1-9][0-9]+', text)"
   ]
  },
  {
   "cell_type": "code",
   "execution_count": 11,
   "id": "af141ffe",
   "metadata": {},
   "outputs": [],
   "source": [
    "p1 = re.compile(r'^.+$', re.MULTILINE) "
   ]
  },
  {
   "cell_type": "code",
   "execution_count": 12,
   "id": "c12e8748",
   "metadata": {},
   "outputs": [
    {
     "data": {
      "text/plain": [
       "['testing', 'testing']"
      ]
     },
     "execution_count": 12,
     "metadata": {},
     "output_type": "execute_result"
    }
   ],
   "source": [
    "p1.findall('testing\\ntesting\\n')"
   ]
  },
  {
   "cell_type": "code",
   "execution_count": 13,
   "id": "1f798076",
   "metadata": {},
   "outputs": [],
   "source": [
    "p1 = re.compile(r'abc+') "
   ]
  },
  {
   "cell_type": "code",
   "execution_count": 14,
   "id": "b60be4df",
   "metadata": {},
   "outputs": [
    {
     "data": {
      "text/plain": [
       "['abc', 'abc', 'abc', 'abcccc', 'abc', 'abc', 'abc', 'abc']"
      ]
     },
     "execution_count": 14,
     "metadata": {},
     "output_type": "execute_result"
    }
   ],
   "source": [
    "p1.findall('abcabcabc abcccc\\nabcabcabcabc\\n')"
   ]
  },
  {
   "cell_type": "code",
   "execution_count": 15,
   "id": "7a3f4d62",
   "metadata": {},
   "outputs": [
    {
     "data": {
      "text/plain": [
       "['invest', 'fund']"
      ]
     },
     "execution_count": 15,
     "metadata": {},
     "output_type": "execute_result"
    }
   ],
   "source": [
    "p1 = re.compile(r'(invest|fund)+') \n",
    "p1.findall('Aleph invested in A,B,C\\nThey also did some funding in Bitcoin\\n')"
   ]
  },
  {
   "cell_type": "code",
   "execution_count": 16,
   "id": "734e4b99",
   "metadata": {},
   "outputs": [],
   "source": [
    "email_pattern = r\"[a-zA-Z0-9]+@[a-zA-Z]+\\.(com|edu|net|ie|in)\""
   ]
  },
  {
   "cell_type": "code",
   "execution_count": 17,
   "id": "dc240644",
   "metadata": {},
   "outputs": [],
   "source": [
    "email_pattern_2 = r\"[\\w]+@[a-zA-Z]+\\.(com|edu|net|ie|in)\""
   ]
  },
  {
   "cell_type": "code",
   "execution_count": 18,
   "id": "798796e6",
   "metadata": {},
   "outputs": [],
   "source": [
    "user_email = \"Prashant Garg's email id is prashant.rhel6@gmail.com\""
   ]
  },
  {
   "cell_type": "code",
   "execution_count": 19,
   "id": "ac7f2ff6",
   "metadata": {},
   "outputs": [
    {
     "data": {
      "text/plain": [
       "<re.Match object; span=(37, 52), match='rhel6@gmail.com'>"
      ]
     },
     "execution_count": 19,
     "metadata": {},
     "output_type": "execute_result"
    }
   ],
   "source": [
    "re.search(email_pattern, user_email)"
   ]
  },
  {
   "cell_type": "code",
   "execution_count": 20,
   "id": "f9aee3f7",
   "metadata": {},
   "outputs": [
    {
     "data": {
      "text/plain": [
       "<re.Match object; span=(37, 52), match='rhel6@gmail.com'>"
      ]
     },
     "execution_count": 20,
     "metadata": {},
     "output_type": "execute_result"
    }
   ],
   "source": [
    "re.search(email_pattern_2, user_email)"
   ]
  },
  {
   "cell_type": "code",
   "execution_count": 21,
   "id": "7bbfa436",
   "metadata": {},
   "outputs": [],
   "source": [
    "text = \"Eden Shochat is an equal partner at Aleph VC, an early stage venture capital fund with $344 under management, focused on serving Israeli entrepreneurs who want to build scalable, global businesses. Since its founding in 2013, Aleph has invested in over 25 companies including WeWork, CommonSense Robotics, Lemonade, Windward, Honeybook and Nexar. Prior to founding Aleph, Shochat was a general partner at Genesis where he focused on seed-stage investments, was a co-founder of face.com, the world leader in massive, web-scale face recognition in social networks, acquired by Facebook in 2012. He was also co-founder and CTO of Aternity, where he led the strategic product direction for its dominant user-experience monitoring platform (acquired by Riverbed). Passionate about entrepreneurship, Eden founded The Junction which was voted as the #1 startup program in Israel, is a co-founder of the annual Geekcon conference and teaches entrepreneurship at the IDC (Herzeliya interdisciplinary center) Zell program.\""
   ]
  },
  {
   "cell_type": "code",
   "execution_count": 22,
   "id": "2c89b0ca",
   "metadata": {},
   "outputs": [
    {
     "data": {
      "text/plain": [
       "'Eden Shochat is an equal partner at Aleph VC, an early stage venture capital fund with $344 under management, focused on serving Israeli entrepreneurs who want to build scalable, global businesses. Since its founding in 2013, Aleph has invested in over 25 companies including WeWork, CommonSense Robotics, Lemonade, Windward, Honeybook and Nexar. Prior to founding Aleph, Shochat was a general partner at Genesis where he focused on seed-stage investments, was a co-founder of face.com, the world leader in massive, web-scale face recognition in social networks, acquired by Facebook in 2012. He was also co-founder and CTO of Aternity, where he led the strategic product direction for its dominant user-experience monitoring platform (acquired by Riverbed). Passionate about entrepreneurship, Eden founded The Junction which was voted as the #1 startup program in Israel, is a co-founder of the annual Geekcon conference and teaches entrepreneurship at the IDC (Herzeliya interdisciplinary center) Zell program.'"
      ]
     },
     "execution_count": 22,
     "metadata": {},
     "output_type": "execute_result"
    }
   ],
   "source": [
    "text"
   ]
  },
  {
   "cell_type": "code",
   "execution_count": 25,
   "id": "15ce3c88",
   "metadata": {},
   "outputs": [],
   "source": [
    "sentences = tokenize.sent_tokenize(text)"
   ]
  },
  {
   "cell_type": "code",
   "execution_count": 26,
   "id": "44ad36d2",
   "metadata": {},
   "outputs": [
    {
     "data": {
      "text/plain": [
       "['Eden Shochat is an equal partner at Aleph VC, an early stage venture capital fund with $344 under management, focused on serving Israeli entrepreneurs who want to build scalable, global businesses.',\n",
       " 'Since its founding in 2013, Aleph has invested in over 25 companies including WeWork, CommonSense Robotics, Lemonade, Windward, Honeybook and Nexar.',\n",
       " 'Prior to founding Aleph, Shochat was a general partner at Genesis where he focused on seed-stage investments, was a co-founder of face.com, the world leader in massive, web-scale face recognition in social networks, acquired by Facebook in 2012.',\n",
       " 'He was also co-founder and CTO of Aternity, where he led the strategic product direction for its dominant user-experience monitoring platform (acquired by Riverbed).',\n",
       " 'Passionate about entrepreneurship, Eden founded The Junction which was voted as the #1 startup program in Israel, is a co-founder of the annual Geekcon conference and teaches entrepreneurship at the IDC (Herzeliya interdisciplinary center) Zell program.']"
      ]
     },
     "execution_count": 26,
     "metadata": {},
     "output_type": "execute_result"
    }
   ],
   "source": [
    "sentences"
   ]
  },
  {
   "cell_type": "code",
   "execution_count": 64,
   "id": "1b90f87e",
   "metadata": {},
   "outputs": [
    {
     "name": "stdout",
     "output_type": "stream",
     "text": [
      "['Since its founding in 2013, Aleph has ', 'invest', ' in over 25 companies including WeWork, CommonSense Robotics, Lemonade, Windward, Honeybook and Nexar.']\n",
      "['Prior to founding Aleph, Shochat was a general partner at Genesis where he focused on seed-stage ', 'invest', ', was a co-founder of face.com, the world leader in massive, web-scale face recognition in social networks, acquired by Facebook in 2012.']\n"
     ]
    }
   ],
   "source": [
    "for sent in sentences:\n",
    "    splits = re.split(r'\\b(invest|sponsor|donat)\\w*\\b', sent)\n",
    "    if len(splits)>1:\n",
    "        print(splits)"
   ]
  },
  {
   "cell_type": "code",
   "execution_count": 53,
   "id": "c5ab37d4",
   "metadata": {},
   "outputs": [],
   "source": [
    "text_2 = \"321.555.4321\"\n",
    "text_3 = \"321-555-4321\"\n",
    "text_4 = \"222*555*4321\""
   ]
  },
  {
   "cell_type": "code",
   "execution_count": 54,
   "id": "6eaab5e3",
   "metadata": {},
   "outputs": [
    {
     "data": {
      "text/plain": [
       "'321.555.4321'"
      ]
     },
     "execution_count": 54,
     "metadata": {},
     "output_type": "execute_result"
    }
   ],
   "source": [
    "text_2"
   ]
  },
  {
   "cell_type": "code",
   "execution_count": 55,
   "id": "54caac78",
   "metadata": {},
   "outputs": [],
   "source": [
    "pattern = r\"\\d\\d\\d[-.]\\d\\d\\d[-.]\\d\\d\\d\\d\""
   ]
  },
  {
   "cell_type": "code",
   "execution_count": 56,
   "id": "f4760e69",
   "metadata": {},
   "outputs": [],
   "source": [
    "p1 = re.compile(pattern)"
   ]
  },
  {
   "cell_type": "code",
   "execution_count": 57,
   "id": "78f629ba",
   "metadata": {},
   "outputs": [
    {
     "data": {
      "text/plain": [
       "<re.Match object; span=(0, 12), match='321.555.4321'>"
      ]
     },
     "execution_count": 57,
     "metadata": {},
     "output_type": "execute_result"
    }
   ],
   "source": [
    "p1.search(text_2)"
   ]
  },
  {
   "cell_type": "code",
   "execution_count": 58,
   "id": "5000c13f",
   "metadata": {},
   "outputs": [
    {
     "data": {
      "text/plain": [
       "<re.Match object; span=(0, 12), match='321-555-4321'>"
      ]
     },
     "execution_count": 58,
     "metadata": {},
     "output_type": "execute_result"
    }
   ],
   "source": [
    "p1.search(text_3)"
   ]
  },
  {
   "cell_type": "code",
   "execution_count": 59,
   "id": "54c0af78",
   "metadata": {},
   "outputs": [],
   "source": [
    "p1.search(text_4)"
   ]
  },
  {
   "cell_type": "code",
   "execution_count": 69,
   "id": "e6a5e4fb",
   "metadata": {},
   "outputs": [],
   "source": [
    "text_5 = \"Mr. Sachin\"\n",
    "text_6 = \"Mr Garg\"\n",
    "text_7 = \"Mrs. Sharma\"\n",
    "text_8 = \"Ms. Sejal\""
   ]
  },
  {
   "cell_type": "code",
   "execution_count": 70,
   "id": "8f866319",
   "metadata": {},
   "outputs": [],
   "source": [
    "exprsn = r'M(r|s|rs)\\.?\\s[A-Z]\\w+' # won't match Mr. T\n",
    "\n",
    "exprsn2 = r'M(r|s|rs)\\.?\\s[A-Z]\\w*' # will match both Mr. T and Mr. Tehran"
   ]
  },
  {
   "cell_type": "code",
   "execution_count": 71,
   "id": "39fca1be",
   "metadata": {},
   "outputs": [
    {
     "name": "stdout",
     "output_type": "stream",
     "text": [
      "<re.Match object; span=(0, 10), match='Mr. Sachin'>\n",
      "<re.Match object; span=(6, 16), match='Mr. Sachin'>\n"
     ]
    }
   ],
   "source": [
    "print(re.search(exprsn, text_5))\n",
    "\n",
    "text_5 = \"Hello Mr. Sachin,\"\n"
   ]
  },
  {
   "cell_type": "code",
   "execution_count": 72,
   "id": "8cfcab9f",
   "metadata": {},
   "outputs": [],
   "source": [
    "# TO match these emails\n",
    "\n",
    "# CoreyMSchafer@gmail.com\n",
    "# corey.schafer@university.edu\n",
    "# corey-321-schafer@my-work.net"
   ]
  },
  {
   "cell_type": "code",
   "execution_count": null,
   "id": "4441f7cc",
   "metadata": {},
   "outputs": [],
   "source": [
    "email_exprsn = r\"[a-zA-Z0-9-.]+@[a-zA-Z-]+\\.(edu|com|net)\""
   ]
  },
  {
   "cell_type": "code",
   "execution_count": 73,
   "id": "dafa1f8b",
   "metadata": {},
   "outputs": [],
   "source": [
    "# To match the URLS\n",
    "\n",
    "# https://www.google.com\n",
    "# http://coreyms.com\n",
    "# https://youtube.com\n",
    "# https://www.nasa.gov"
   ]
  },
  {
   "cell_type": "code",
   "execution_count": null,
   "id": "832dc282",
   "metadata": {},
   "outputs": [],
   "source": [
    "url_exprsn = r\"https?://(www.)?(\\w+)(\\.\\w+)\"\n",
    "\n",
    "# $1\n",
    "\n",
    "# $2\n",
    "\n",
    "# $3\n",
    "\n",
    "# $2$3"
   ]
  },
  {
   "cell_type": "code",
   "execution_count": 87,
   "id": "96c6d857",
   "metadata": {},
   "outputs": [],
   "source": [
    "# groups\n",
    "\n",
    "text = \"Since its founding in 2013, Aleph has invested in over 25 companies including WeWork, CommonSense Robotics, Lemonade, Windward, Honeybook and Nexar\""
   ]
  },
  {
   "cell_type": "code",
   "execution_count": 88,
   "id": "e04b1e40",
   "metadata": {},
   "outputs": [],
   "source": [
    "import html"
   ]
  },
  {
   "cell_type": "code",
   "execution_count": 89,
   "id": "5baf85db",
   "metadata": {},
   "outputs": [
    {
     "data": {
      "text/plain": [
       "'Since its founding in 2013, Aleph has invested in over 25 companies including WeWork, CommonSense Robotics, Lemonade, Windward, Honeybook and Nexar'"
      ]
     },
     "execution_count": 89,
     "metadata": {},
     "output_type": "execute_result"
    }
   ],
   "source": [
    "text"
   ]
  },
  {
   "cell_type": "code",
   "execution_count": 90,
   "id": "25048c59",
   "metadata": {},
   "outputs": [],
   "source": [
    "investment_search = re.compile(r'([A-Za-z0-9\\s\\S]+\\b)(invested|funded)\\b([\\s\\Sa-zA-Z0-9]+)')\n"
   ]
  },
  {
   "cell_type": "code",
   "execution_count": 91,
   "id": "51acbd0f",
   "metadata": {},
   "outputs": [],
   "source": [
    "m = investment_search.match(text)"
   ]
  },
  {
   "cell_type": "code",
   "execution_count": 92,
   "id": "68d91b02",
   "metadata": {},
   "outputs": [
    {
     "data": {
      "text/plain": [
       "'Since its founding in 2013, Aleph has invested in over 25 companies including WeWork, CommonSense Robotics, Lemonade, Windward, Honeybook and Nexar'"
      ]
     },
     "execution_count": 92,
     "metadata": {},
     "output_type": "execute_result"
    }
   ],
   "source": [
    "m.group(0)"
   ]
  },
  {
   "cell_type": "code",
   "execution_count": 93,
   "id": "f225bd1d",
   "metadata": {},
   "outputs": [
    {
     "name": "stdout",
     "output_type": "stream",
     "text": [
      "[{'entity_group': 'ORG', 'score': 0.9961027055978775, 'word': 'WeWork', 'start': 32, 'end': 38}, {'entity_group': 'ORG', 'score': 0.9963202357292176, 'word': 'CommonSense Robotics', 'start': 40, 'end': 60}, {'entity_group': 'ORG', 'score': 0.997754842042923, 'word': 'Lemonade', 'start': 62, 'end': 70}, {'entity_group': 'ORG', 'score': 0.9979381263256073, 'word': 'Windward', 'start': 72, 'end': 80}, {'entity_group': 'ORG', 'score': 0.9978482127189636, 'word': 'Honeybook', 'start': 82, 'end': 91}, {'entity_group': 'ORG', 'score': 0.9943867325782776, 'word': 'Nexar', 'start': 96, 'end': 101}]\n"
     ]
    }
   ],
   "source": [
    "entities = nlp(m.group(3))\n",
    "print(entities)"
   ]
  },
  {
   "cell_type": "code",
   "execution_count": 76,
   "id": "4f0c1e57",
   "metadata": {},
   "outputs": [],
   "source": [
    "entities = nlp(m.group(3))\n",
    "\n",
    "entities = [entity['word'] for entity in entities if entity['entity_group']=='ORG' and entity['score']>0.9]"
   ]
  },
  {
   "cell_type": "code",
   "execution_count": 77,
   "id": "d25bc7f1",
   "metadata": {},
   "outputs": [
    {
     "data": {
      "text/plain": [
       "['WeWork',\n",
       " 'CommonSense Robotics',\n",
       " 'Lemonade',\n",
       " 'Windward',\n",
       " 'Honeybook',\n",
       " 'Nexar']"
      ]
     },
     "execution_count": 77,
     "metadata": {},
     "output_type": "execute_result"
    }
   ],
   "source": [
    "entities"
   ]
  },
  {
   "cell_type": "code",
   "execution_count": 66,
   "id": "6a586022",
   "metadata": {},
   "outputs": [
    {
     "data": {
      "text/plain": [
       "'Since its founding in 2013, Aleph has '"
      ]
     },
     "execution_count": 66,
     "metadata": {},
     "output_type": "execute_result"
    }
   ],
   "source": [
    "m.group(1)"
   ]
  },
  {
   "cell_type": "code",
   "execution_count": 67,
   "id": "cf6cc85e",
   "metadata": {},
   "outputs": [
    {
     "data": {
      "text/plain": [
       "'invested'"
      ]
     },
     "execution_count": 67,
     "metadata": {},
     "output_type": "execute_result"
    }
   ],
   "source": [
    "m.group(2)"
   ]
  },
  {
   "cell_type": "code",
   "execution_count": 68,
   "id": "bc2cd9c5",
   "metadata": {},
   "outputs": [
    {
     "data": {
      "text/plain": [
       "' in over 25 companies including WeWork, CommonSense Robotics, Lemonade, Windward, Honeybook and Nexar'"
      ]
     },
     "execution_count": 68,
     "metadata": {},
     "output_type": "execute_result"
    }
   ],
   "source": [
    "m.group(3)"
   ]
  },
  {
   "cell_type": "code",
   "execution_count": 57,
   "id": "5f0acc17",
   "metadata": {},
   "outputs": [
    {
     "data": {
      "text/plain": [
       "0"
      ]
     },
     "execution_count": 57,
     "metadata": {},
     "output_type": "execute_result"
    }
   ],
   "source": [
    "m.start()"
   ]
  },
  {
   "cell_type": "code",
   "execution_count": 58,
   "id": "ba2e51e1",
   "metadata": {},
   "outputs": [
    {
     "data": {
      "text/plain": [
       "(0, 147)"
      ]
     },
     "execution_count": 58,
     "metadata": {},
     "output_type": "execute_result"
    }
   ],
   "source": [
    "m.start(), m.end()"
   ]
  },
  {
   "cell_type": "code",
   "execution_count": 60,
   "id": "036a4355",
   "metadata": {},
   "outputs": [],
   "source": [
    "iterator = investment_search.finditer(text)"
   ]
  },
  {
   "cell_type": "code",
   "execution_count": 61,
   "id": "1872d234",
   "metadata": {},
   "outputs": [
    {
     "name": "stdout",
     "output_type": "stream",
     "text": [
      "(0, 147)\n"
     ]
    }
   ],
   "source": [
    "for match in iterator:\n",
    "    print(match.span())"
   ]
  },
  {
   "cell_type": "code",
   "execution_count": 126,
   "id": "f4435bb2",
   "metadata": {},
   "outputs": [],
   "source": [
    "organization = \"Coatue Management\""
   ]
  },
  {
   "cell_type": "code",
   "execution_count": 130,
   "id": "01420614",
   "metadata": {},
   "outputs": [],
   "source": [
    "org_name = 'Managementaa'"
   ]
  },
  {
   "cell_type": "code",
   "execution_count": 131,
   "id": "f48af33c",
   "metadata": {},
   "outputs": [],
   "source": [
    "match = re.findall(rf'{org_name}', organization, re.I)"
   ]
  },
  {
   "cell_type": "code",
   "execution_count": 132,
   "id": "4e9a1073",
   "metadata": {},
   "outputs": [],
   "source": [
    "if match:\n",
    "    print(match)"
   ]
  },
  {
   "cell_type": "code",
   "execution_count": null,
   "id": "3edc2d80",
   "metadata": {},
   "outputs": [],
   "source": []
  }
 ],
 "metadata": {
  "kernelspec": {
   "display_name": "Python 3",
   "language": "python",
   "name": "python3"
  },
  "language_info": {
   "codemirror_mode": {
    "name": "ipython",
    "version": 3
   },
   "file_extension": ".py",
   "mimetype": "text/x-python",
   "name": "python",
   "nbconvert_exporter": "python",
   "pygments_lexer": "ipython3",
   "version": "3.8.6"
  }
 },
 "nbformat": 4,
 "nbformat_minor": 5
}
